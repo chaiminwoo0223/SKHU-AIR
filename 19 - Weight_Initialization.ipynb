{
  "nbformat": 4,
  "nbformat_minor": 0,
  "metadata": {
    "colab": {
      "provenance": [],
      "gpuType": "T4",
      "authorship_tag": "ABX9TyNHMGSMOp4drZJ+o2nS4+97",
      "include_colab_link": true
    },
    "kernelspec": {
      "name": "python3",
      "display_name": "Python 3"
    },
    "language_info": {
      "name": "python"
    },
    "accelerator": "GPU",
    "gpuClass": "standard"
  },
  "cells": [
    {
      "cell_type": "markdown",
      "metadata": {
        "id": "view-in-github",
        "colab_type": "text"
      },
      "source": [
        "<a href=\"https://colab.research.google.com/github/chaiminwoo0223/Deep-Learning/blob/main/19%20-%20Weight_Initialization.ipynb\" target=\"_parent\"><img src=\"https://colab.research.google.com/assets/colab-badge.svg\" alt=\"Open In Colab\"/></a>"
      ]
    },
    {
      "cell_type": "markdown",
      "source": [
        "# Import"
      ],
      "metadata": {
        "id": "33RP8aQaf0KM"
      }
    },
    {
      "cell_type": "code",
      "source": [
        "import numpy as np\n",
        "import torch\n",
        "import torch.nn as nn\n",
        "import torch.optim as optim\n",
        "import torch.nn.init as init\n",
        "import torchvision.datasets as dset\n",
        "import torchvision.transforms as transforms\n",
        "from torch.utils.data import DataLoader"
      ],
      "metadata": {
        "id": "j1dKmDXIcptt"
      },
      "execution_count": 1,
      "outputs": []
    },
    {
      "cell_type": "markdown",
      "source": [
        "# Hyperparameter"
      ],
      "metadata": {
        "id": "5wL-ovq2f4Qb"
      }
    },
    {
      "cell_type": "code",
      "execution_count": 2,
      "metadata": {
        "id": "ObyldT3AcaJS"
      },
      "outputs": [],
      "source": [
        "batch_size = 256\n",
        "lr = 0.0002\n",
        "num_epoch = 10"
      ]
    },
    {
      "cell_type": "markdown",
      "source": [
        "# Data\n",
        "## 1.Data Download"
      ],
      "metadata": {
        "id": "mi1ZNPIRf8cX"
      }
    },
    {
      "cell_type": "code",
      "source": [
        "mnist_train = dset.MNIST(\"./\", train=True, transform=transforms.ToTensor(), target_transform=None, download=True)\n",
        "mnist_test = dset.MNIST(\"./\", train=False, transform=transforms.ToTensor(), target_transform=None, download=True)"
      ],
      "metadata": {
        "id": "WgN1_usmdNhG",
        "colab": {
          "base_uri": "https://localhost:8080/"
        },
        "outputId": "5b8257a6-ce5f-41bd-c5ab-451c5cca58b9"
      },
      "execution_count": 3,
      "outputs": [
        {
          "output_type": "stream",
          "name": "stdout",
          "text": [
            "Downloading http://yann.lecun.com/exdb/mnist/train-images-idx3-ubyte.gz\n",
            "Downloading http://yann.lecun.com/exdb/mnist/train-images-idx3-ubyte.gz to ./MNIST/raw/train-images-idx3-ubyte.gz\n"
          ]
        },
        {
          "output_type": "stream",
          "name": "stderr",
          "text": [
            "100%|██████████| 9912422/9912422 [00:00<00:00, 242670179.92it/s]"
          ]
        },
        {
          "output_type": "stream",
          "name": "stdout",
          "text": [
            "Extracting ./MNIST/raw/train-images-idx3-ubyte.gz to ./MNIST/raw\n"
          ]
        },
        {
          "output_type": "stream",
          "name": "stderr",
          "text": [
            "\n"
          ]
        },
        {
          "output_type": "stream",
          "name": "stdout",
          "text": [
            "\n",
            "Downloading http://yann.lecun.com/exdb/mnist/train-labels-idx1-ubyte.gz\n",
            "Downloading http://yann.lecun.com/exdb/mnist/train-labels-idx1-ubyte.gz to ./MNIST/raw/train-labels-idx1-ubyte.gz\n"
          ]
        },
        {
          "output_type": "stream",
          "name": "stderr",
          "text": [
            "100%|██████████| 28881/28881 [00:00<00:00, 99129045.68it/s]\n"
          ]
        },
        {
          "output_type": "stream",
          "name": "stdout",
          "text": [
            "Extracting ./MNIST/raw/train-labels-idx1-ubyte.gz to ./MNIST/raw\n",
            "\n",
            "Downloading http://yann.lecun.com/exdb/mnist/t10k-images-idx3-ubyte.gz\n",
            "Downloading http://yann.lecun.com/exdb/mnist/t10k-images-idx3-ubyte.gz to ./MNIST/raw/t10k-images-idx3-ubyte.gz\n"
          ]
        },
        {
          "output_type": "stream",
          "name": "stderr",
          "text": [
            "100%|██████████| 1648877/1648877 [00:00<00:00, 73020994.36it/s]\n"
          ]
        },
        {
          "output_type": "stream",
          "name": "stdout",
          "text": [
            "Extracting ./MNIST/raw/t10k-images-idx3-ubyte.gz to ./MNIST/raw\n",
            "\n",
            "Downloading http://yann.lecun.com/exdb/mnist/t10k-labels-idx1-ubyte.gz\n",
            "Downloading http://yann.lecun.com/exdb/mnist/t10k-labels-idx1-ubyte.gz to ./MNIST/raw/t10k-labels-idx1-ubyte.gz\n"
          ]
        },
        {
          "output_type": "stream",
          "name": "stderr",
          "text": [
            "100%|██████████| 4542/4542 [00:00<00:00, 14312944.23it/s]"
          ]
        },
        {
          "output_type": "stream",
          "name": "stdout",
          "text": [
            "Extracting ./MNIST/raw/t10k-labels-idx1-ubyte.gz to ./MNIST/raw\n",
            "\n"
          ]
        },
        {
          "output_type": "stream",
          "name": "stderr",
          "text": [
            "\n"
          ]
        }
      ]
    },
    {
      "cell_type": "markdown",
      "source": [
        "## 2.Check Dataset"
      ],
      "metadata": {
        "id": "Ovd4Dmp5gFRP"
      }
    },
    {
      "cell_type": "code",
      "source": [
        "print(mnist_train.__getitem__(0)[0].size(), mnist_train.__len__())\n",
        "print(mnist_test.__getitem__(0)[0].size(), mnist_test.__len__())"
      ],
      "metadata": {
        "colab": {
          "base_uri": "https://localhost:8080/"
        },
        "id": "o7UxWbKPdnac",
        "outputId": "1ce63be6-3c3d-46be-dd51-b104d304f3ce"
      },
      "execution_count": 4,
      "outputs": [
        {
          "output_type": "stream",
          "name": "stdout",
          "text": [
            "torch.Size([1, 28, 28]) 60000\n",
            "torch.Size([1, 28, 28]) 10000\n"
          ]
        }
      ]
    },
    {
      "cell_type": "markdown",
      "source": [
        "## 3.Set DataLoader"
      ],
      "metadata": {
        "id": "K0pLpUt6gITB"
      }
    },
    {
      "cell_type": "code",
      "source": [
        "train_loader = DataLoader(mnist_train, batch_size=batch_size, shuffle=True, num_workers=2, drop_last=True)\n",
        "test_loader = DataLoader(mnist_test, batch_size=batch_size, shuffle=False, num_workers=2, drop_last=True)"
      ],
      "metadata": {
        "id": "NcfoykdEdnlu"
      },
      "execution_count": 5,
      "outputs": []
    },
    {
      "cell_type": "markdown",
      "source": [
        "# CNN\n",
        "## 1.Model"
      ],
      "metadata": {
        "id": "BagjC6NIgOkQ"
      }
    },
    {
      "cell_type": "code",
      "source": [
        "class CNN(nn.Module):\n",
        "    def __init__(self):\n",
        "        super(CNN, self).__init__()\n",
        "        self.layer = nn.Sequential(\n",
        "            nn.Conv2d(1, 16, 3, padding=1),  # 28 X 28\n",
        "            nn.ReLU(),\n",
        "            nn.Conv2d(16, 32, 3, padding=1), # 28 X 28\n",
        "            nn.ReLU(),\n",
        "            nn.MaxPool2d(2, 2),              # 14 X 14\n",
        "            nn.Conv2d(32, 64, 3, padding=1), # 14 X 14\n",
        "            nn.ReLU(),\n",
        "            nn.MaxPool2d(2, 2),              #  7 X 7\n",
        "        )\n",
        "        self.fc_layer = nn.Sequential(\n",
        "            nn.Linear(64*7*7, 100),\n",
        "            nn.ReLU(),\n",
        "            nn.Linear(100, 10)\n",
        "        )\n",
        "        # 초기화\n",
        "        for m in self.modules():\n",
        "            # 만약 그 모듈이 nn.Conv2d인 경우\n",
        "            if isinstance(m, nn.Conv2d):\n",
        "                '''\n",
        "                # 작은 숫자로 초기화하는 방법\n",
        "                # 가중치를 평균 0, 편차 0.02로 초기화\n",
        "                # 편차를 0으로 초기화\n",
        "                m.weight.data.normal_(0.0, 0.02)\n",
        "                m.bias.data.fill_(0)\n",
        "                \n",
        "                # Xavier Initialization\n",
        "                # 모듈의 가중치를 xavier normal로 초기화\n",
        "                # 편차를 0으로 초기화\n",
        "                init.xavier_normal_(m.weight.data)\n",
        "                m.bias.data.fill_(0)\n",
        "                '''\n",
        "                # Kaiming Initialization\n",
        "                # 모듈의 가중치를 kaiming he normal로 초기화\n",
        "                # 편차를 0으로 초기화\n",
        "                init.kaiming_normal_(m.weight.data)\n",
        "                m.bias.data.fill_(0)\n",
        "\n",
        "            # 만약 그 모듈이 nn.Linear인 경우\n",
        "            elif isinstance(m, nn.Linear):\n",
        "                '''\n",
        "                # 작은 숫자로 초기화하는 방법\n",
        "                # 가중치를 평균 0, 편차 0.02로 초기화\n",
        "                # 편차를 0으로 초기화\n",
        "                m.weight.data.normal_(0.0, 0.02)\n",
        "                m.bias.data.fill_(0)\n",
        "                \n",
        "                # Xavier Initialization\n",
        "                # 모듈의 가중치를 xavier normal로 초기화\n",
        "                # 편차를 0으로 초기화\n",
        "                init.xavier_normal(m.weight.data)\n",
        "                m.bias.data.fill_(0)\n",
        "                '''\n",
        "                # Kaiming Initialization\n",
        "                # 모듈의 가중치를 kaiming he normal로 초기화\n",
        "                # 편차를 0으로 초기화\n",
        "                init.kaiming_normal_(m.weight.data)\n",
        "                m.bias.data.fill_(0)\n",
        "                \n",
        "    def forward(self, x):\n",
        "        out = self.layer(x)\n",
        "        out = out.view(batch_size, -1)\n",
        "        out = self.fc_layer(out)\n",
        "        return out"
      ],
      "metadata": {
        "id": "7ekAxVgEdnn3"
      },
      "execution_count": 6,
      "outputs": []
    },
    {
      "cell_type": "markdown",
      "source": [
        "## 2.Loss_Func & Optimizer"
      ],
      "metadata": {
        "id": "nfcsnObQlc41"
      }
    },
    {
      "cell_type": "code",
      "source": [
        "device = torch.device(\"cuda:0\" if torch.cuda.is_available() else \"cpu\")\n",
        "print(device)"
      ],
      "metadata": {
        "colab": {
          "base_uri": "https://localhost:8080/"
        },
        "id": "JvdL54FxgVOQ",
        "outputId": "d15a31a5-4a6e-40d5-ae99-c85046f20626"
      },
      "execution_count": 7,
      "outputs": [
        {
          "output_type": "stream",
          "name": "stdout",
          "text": [
            "cuda:0\n"
          ]
        }
      ]
    },
    {
      "cell_type": "code",
      "source": [
        "model = CNN().to(device)\n",
        "loss_func = nn.CrossEntropyLoss()\n",
        "optimizer = optim.SGD(model.parameters(), lr=lr)"
      ],
      "metadata": {
        "id": "30g5Gu6ygVQd"
      },
      "execution_count": 8,
      "outputs": []
    },
    {
      "cell_type": "markdown",
      "source": [
        "# Train"
      ],
      "metadata": {
        "id": "o08iKpFZmfBG"
      }
    },
    {
      "cell_type": "code",
      "source": [
        "for i in range(num_epoch):\n",
        "    for j, [image, label] in enumerate(train_loader):\n",
        "        x = image.to(device)\n",
        "        y_= label.to(device)\n",
        "\n",
        "        optimizer.zero_grad()\n",
        "        output = model.forward(x)\n",
        "        loss = loss_func(output, y_)\n",
        "        loss.backward()\n",
        "        optimizer.step()\n",
        "\n",
        "    if i % 10 == 0:\n",
        "        print(loss)"
      ],
      "metadata": {
        "colab": {
          "base_uri": "https://localhost:8080/"
        },
        "id": "XNJIZWpLgVMF",
        "outputId": "fa317035-b89a-4107-b2fc-058039587ad3"
      },
      "execution_count": 9,
      "outputs": [
        {
          "output_type": "stream",
          "name": "stdout",
          "text": [
            "tensor(1.9134, device='cuda:0', grad_fn=<NllLossBackward0>)\n"
          ]
        }
      ]
    },
    {
      "cell_type": "markdown",
      "source": [
        "# Test"
      ],
      "metadata": {
        "id": "kYrDbedSnIb0"
      }
    },
    {
      "cell_type": "code",
      "source": [
        "correct = 0\n",
        "total = 0\n",
        "\n",
        "with torch.no_grad():\n",
        "    for image, label in test_loader:\n",
        "        x = image.to(device)\n",
        "        y_= label.to(device)\n",
        "\n",
        "        output = model.forward(x)\n",
        "        _, output_index = torch.max(output, 1)\n",
        "        total += label.size(0)\n",
        "        correct += (output_index == y_).sum().float()\n",
        "        \n",
        "    print(\"Accuracy of Test Data: {}\".format(100*correct/total))"
      ],
      "metadata": {
        "colab": {
          "base_uri": "https://localhost:8080/"
        },
        "id": "h7rjpfkigVTN",
        "outputId": "2c2f3aaf-8045-4bf3-d41b-3a712839a776"
      },
      "execution_count": 10,
      "outputs": [
        {
          "output_type": "stream",
          "name": "stdout",
          "text": [
            "Accuracy of Test Data: 85.71714782714844\n"
          ]
        }
      ]
    },
    {
      "cell_type": "code",
      "source": [],
      "metadata": {
        "id": "DgX7Q9SogVVm"
      },
      "execution_count": 10,
      "outputs": []
    }
  ]
}